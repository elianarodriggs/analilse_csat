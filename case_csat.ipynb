{
  "nbformat": 4,
  "nbformat_minor": 0,
  "metadata": {
    "colab": {
      "provenance": [],
      "authorship_tag": "ABX9TyMPGJX/sJAF7dbEvFhWtuBY",
      "include_colab_link": true
    },
    "kernelspec": {
      "name": "python3",
      "display_name": "Python 3"
    },
    "language_info": {
      "name": "python"
    }
  },
  "cells": [
    {
      "cell_type": "markdown",
      "metadata": {
        "id": "view-in-github",
        "colab_type": "text"
      },
      "source": [
        "<a href=\"https://colab.research.google.com/github/elianarodriggs/analilse_csat/blob/main/case_csat.ipynb\" target=\"_parent\"><img src=\"https://colab.research.google.com/assets/colab-badge.svg\" alt=\"Open In Colab\"/></a>"
      ]
    },
    {
      "cell_type": "markdown",
      "source": [],
      "metadata": {
        "id": "ZkCEuVCJklSX"
      }
    },
    {
      "cell_type": "code",
      "execution_count": null,
      "metadata": {
        "id": "RB_p0GcG84fe"
      },
      "outputs": [],
      "source": [
        "import pandas as pd\n",
        "from datetime import datetime\n",
        "import numpy as np\n",
        "pip install nbconvert"
      ]
    },
    {
      "cell_type": "code",
      "source": [
        "## LENDO BASES DE DADOS\n",
        "\n",
        "tickets = pd.read_csv('/content/tb_tickets.csv')\n",
        "csat = pd.read_csv('/content/tb_csat.csv')\n",
        "grandes_contas = pd.read_csv('/content/tb_grandes_contas.csv')"
      ],
      "metadata": {
        "id": "0zflbBpo9SB4"
      },
      "execution_count": null,
      "outputs": []
    },
    {
      "cell_type": "code",
      "source": [
        "tickets['dt_hr_criacao'] # valor original da coluna de data criacao"
      ],
      "metadata": {
        "colab": {
          "base_uri": "https://localhost:8080/",
          "height": 458
        },
        "id": "AiWxEAnk56vL",
        "outputId": "75ec0c91-fea2-4964-cb5c-d824bf82a673"
      },
      "execution_count": null,
      "outputs": [
        {
          "output_type": "execute_result",
          "data": {
            "text/plain": [
              "0        2023-10-03T12:46:26.7236075\n",
              "1        2023-10-03T13:59:28.3953558\n",
              "2        2023-10-03T14:40:27.5606103\n",
              "3        2023-10-03T18:23:43.3335535\n",
              "4        2023-10-04T13:20:01.7574209\n",
              "                    ...             \n",
              "43368    2024-01-03T12:14:50.1524568\n",
              "43369    2024-01-19T14:04:37.5895408\n",
              "43370    2023-10-09T14:39:35.3642785\n",
              "43371    2023-10-28T12:04:40.7021481\n",
              "43372    2023-12-30T12:29:25.3148546\n",
              "Name: dt_hr_criacao, Length: 43373, dtype: object"
            ],
            "text/html": [
              "<div>\n",
              "<style scoped>\n",
              "    .dataframe tbody tr th:only-of-type {\n",
              "        vertical-align: middle;\n",
              "    }\n",
              "\n",
              "    .dataframe tbody tr th {\n",
              "        vertical-align: top;\n",
              "    }\n",
              "\n",
              "    .dataframe thead th {\n",
              "        text-align: right;\n",
              "    }\n",
              "</style>\n",
              "<table border=\"1\" class=\"dataframe\">\n",
              "  <thead>\n",
              "    <tr style=\"text-align: right;\">\n",
              "      <th></th>\n",
              "      <th>dt_hr_criacao</th>\n",
              "    </tr>\n",
              "  </thead>\n",
              "  <tbody>\n",
              "    <tr>\n",
              "      <th>0</th>\n",
              "      <td>2023-10-03T12:46:26.7236075</td>\n",
              "    </tr>\n",
              "    <tr>\n",
              "      <th>1</th>\n",
              "      <td>2023-10-03T13:59:28.3953558</td>\n",
              "    </tr>\n",
              "    <tr>\n",
              "      <th>2</th>\n",
              "      <td>2023-10-03T14:40:27.5606103</td>\n",
              "    </tr>\n",
              "    <tr>\n",
              "      <th>3</th>\n",
              "      <td>2023-10-03T18:23:43.3335535</td>\n",
              "    </tr>\n",
              "    <tr>\n",
              "      <th>4</th>\n",
              "      <td>2023-10-04T13:20:01.7574209</td>\n",
              "    </tr>\n",
              "    <tr>\n",
              "      <th>...</th>\n",
              "      <td>...</td>\n",
              "    </tr>\n",
              "    <tr>\n",
              "      <th>43368</th>\n",
              "      <td>2024-01-03T12:14:50.1524568</td>\n",
              "    </tr>\n",
              "    <tr>\n",
              "      <th>43369</th>\n",
              "      <td>2024-01-19T14:04:37.5895408</td>\n",
              "    </tr>\n",
              "    <tr>\n",
              "      <th>43370</th>\n",
              "      <td>2023-10-09T14:39:35.3642785</td>\n",
              "    </tr>\n",
              "    <tr>\n",
              "      <th>43371</th>\n",
              "      <td>2023-10-28T12:04:40.7021481</td>\n",
              "    </tr>\n",
              "    <tr>\n",
              "      <th>43372</th>\n",
              "      <td>2023-12-30T12:29:25.3148546</td>\n",
              "    </tr>\n",
              "  </tbody>\n",
              "</table>\n",
              "<p>43373 rows × 1 columns</p>\n",
              "</div><br><label><b>dtype:</b> object</label>"
            ]
          },
          "metadata": {},
          "execution_count": 1288
        }
      ]
    },
    {
      "cell_type": "code",
      "source": [
        "## convertendo valores para datetime\n",
        "\n",
        "tickets['dt_hr_criacao'] = pd.to_datetime(tickets['dt_hr_criacao'], errors='coerce').dt.date\n",
        "tickets['dt_hr_fechamento'] = pd.to_datetime(tickets['dt_hr_fechamento'], errors='coerce').dt.date"
      ],
      "metadata": {
        "id": "13Mf_lsK6PDg"
      },
      "execution_count": null,
      "outputs": []
    },
    {
      "cell_type": "code",
      "source": [
        "tickets['dt_hr_criacao'] # resultado da conversao da coluna de data criacao"
      ],
      "metadata": {
        "colab": {
          "base_uri": "https://localhost:8080/",
          "height": 458
        },
        "id": "xMl-kWek6T8g",
        "outputId": "09000581-e759-4214-cd63-44af6b54b6df"
      },
      "execution_count": null,
      "outputs": [
        {
          "output_type": "execute_result",
          "data": {
            "text/plain": [
              "0        2023-10-03\n",
              "1        2023-10-03\n",
              "2        2023-10-03\n",
              "3        2023-10-03\n",
              "4        2023-10-04\n",
              "            ...    \n",
              "43368    2024-01-03\n",
              "43369    2024-01-19\n",
              "43370    2023-10-09\n",
              "43371    2023-10-28\n",
              "43372    2023-12-30\n",
              "Name: dt_hr_criacao, Length: 43373, dtype: object"
            ],
            "text/html": [
              "<div>\n",
              "<style scoped>\n",
              "    .dataframe tbody tr th:only-of-type {\n",
              "        vertical-align: middle;\n",
              "    }\n",
              "\n",
              "    .dataframe tbody tr th {\n",
              "        vertical-align: top;\n",
              "    }\n",
              "\n",
              "    .dataframe thead th {\n",
              "        text-align: right;\n",
              "    }\n",
              "</style>\n",
              "<table border=\"1\" class=\"dataframe\">\n",
              "  <thead>\n",
              "    <tr style=\"text-align: right;\">\n",
              "      <th></th>\n",
              "      <th>dt_hr_criacao</th>\n",
              "    </tr>\n",
              "  </thead>\n",
              "  <tbody>\n",
              "    <tr>\n",
              "      <th>0</th>\n",
              "      <td>2023-10-03</td>\n",
              "    </tr>\n",
              "    <tr>\n",
              "      <th>1</th>\n",
              "      <td>2023-10-03</td>\n",
              "    </tr>\n",
              "    <tr>\n",
              "      <th>2</th>\n",
              "      <td>2023-10-03</td>\n",
              "    </tr>\n",
              "    <tr>\n",
              "      <th>3</th>\n",
              "      <td>2023-10-03</td>\n",
              "    </tr>\n",
              "    <tr>\n",
              "      <th>4</th>\n",
              "      <td>2023-10-04</td>\n",
              "    </tr>\n",
              "    <tr>\n",
              "      <th>...</th>\n",
              "      <td>...</td>\n",
              "    </tr>\n",
              "    <tr>\n",
              "      <th>43368</th>\n",
              "      <td>2024-01-03</td>\n",
              "    </tr>\n",
              "    <tr>\n",
              "      <th>43369</th>\n",
              "      <td>2024-01-19</td>\n",
              "    </tr>\n",
              "    <tr>\n",
              "      <th>43370</th>\n",
              "      <td>2023-10-09</td>\n",
              "    </tr>\n",
              "    <tr>\n",
              "      <th>43371</th>\n",
              "      <td>2023-10-28</td>\n",
              "    </tr>\n",
              "    <tr>\n",
              "      <th>43372</th>\n",
              "      <td>2023-12-30</td>\n",
              "    </tr>\n",
              "  </tbody>\n",
              "</table>\n",
              "<p>43373 rows × 1 columns</p>\n",
              "</div><br><label><b>dtype:</b> object</label>"
            ]
          },
          "metadata": {},
          "execution_count": 1290
        }
      ]
    },
    {
      "cell_type": "code",
      "source": [
        "## TRATAMENTO DE DADOS - BASE CSAT\n",
        "\n",
        "# conversao para datetime\n",
        "csat['dt_hr_resposta'] = pd.to_datetime(csat['dt_hr_resposta'], errors='coerce').dt.date\n",
        "\n",
        "# nan para nulo\n",
        "csat['des_comentario'] = csat['des_comentario'].fillna(\"\")\n",
        "\n",
        "## TRATAMENTO DE DADOS - BASE CSAT"
      ],
      "metadata": {
        "id": "0fuRBemhAfhO"
      },
      "execution_count": null,
      "outputs": []
    },
    {
      "cell_type": "code",
      "source": [
        "## TRATAMENTO DE DADOS - TICKETS\n",
        "\n",
        "# converte a coluna 'cod_cliente' pra float\n",
        "tickets['cod_cliente'] = tickets['cod_cliente'].astype(float)\n",
        "# substitui NaN por 0\n",
        "tickets['cod_cliente'] = tickets['cod_cliente'].fillna(0)\n",
        "# converte de float para int\n",
        "tickets['cod_cliente'] = tickets['cod_cliente'].astype(int)\n",
        "# converte de int para str\n",
        "tickets['cod_cliente'] = tickets['cod_cliente'].astype(str)\n",
        "\n",
        "## TRATAMENTO DE DADOS - TICKETS"
      ],
      "metadata": {
        "id": "g1kL47NtA1R0"
      },
      "execution_count": null,
      "outputs": []
    },
    {
      "cell_type": "code",
      "source": [
        "## TRATAMENTO DE DADOS - GRANDES CONTAS\n",
        "\n",
        "grandes_contas.rename(columns={'grandes_contas': 'cod_cliente'}, inplace=True)\n",
        "grandes_contas['cod_cliente'] = grandes_contas['cod_cliente'].astype(str)\n",
        "\n",
        "## TRATAMENTO DE DADOS - GRANDES CONTAS"
      ],
      "metadata": {
        "id": "S_8xmT0lA33c"
      },
      "execution_count": null,
      "outputs": []
    },
    {
      "cell_type": "code",
      "source": [
        "## CRUZANDO DADOS DA BASE CSAT E TICKETS\n",
        "\n",
        "csat_tickets = csat.merge(tickets, on='cod_ticket', how='left')"
      ],
      "metadata": {
        "id": "fyfPNm8-A78j"
      },
      "execution_count": null,
      "outputs": []
    },
    {
      "cell_type": "code",
      "source": [
        "## CRUZANDO BASE (TICKES/CSAT) COM A BASE DE GRANDES CLIENTES\n",
        "\n",
        "df = csat_tickets.merge(grandes_contas, on='cod_cliente', how='left')"
      ],
      "metadata": {
        "id": "FXMpR1ZrBQ15"
      },
      "execution_count": null,
      "outputs": []
    },
    {
      "cell_type": "code",
      "source": [
        "\n",
        "# CRIANDO FLAG PRA IDENTIFICAR GRANDES CLIENTES NO DATAFRAME\n",
        "df['flag_grandes_contas'] = np.where(df['cod_cliente'].isin(grandes_contas['cod_cliente']), 1, 0)"
      ],
      "metadata": {
        "id": "NY0u8KplB9ee"
      },
      "execution_count": null,
      "outputs": []
    },
    {
      "cell_type": "markdown",
      "source": [
        "## CALCULO INDICADORES"
      ],
      "metadata": {
        "id": "cq5va2iJCGsH"
      }
    },
    {
      "cell_type": "markdown",
      "source": [
        "Volume de Tickets"
      ],
      "metadata": {
        "id": "Uw-JjKHmEfVV"
      }
    },
    {
      "cell_type": "code",
      "source": [
        "volume_tickets = tickets['cod_ticket'].nunique()\n",
        "print(f\"% O volume de tickets é: {volume_tickets}\")"
      ],
      "metadata": {
        "colab": {
          "base_uri": "https://localhost:8080/"
        },
        "id": "hkCDAWwTCJoG",
        "outputId": "babecadd-59e1-4e32-fc07-cc47cabf20dd"
      },
      "execution_count": null,
      "outputs": [
        {
          "output_type": "stream",
          "name": "stdout",
          "text": [
            "% O volume de tickets é: 43373\n"
          ]
        }
      ]
    },
    {
      "cell_type": "markdown",
      "source": [
        " % FCR (First Call Resolution)"
      ],
      "metadata": {
        "id": "U17hlh7AEnje"
      }
    },
    {
      "cell_type": "code",
      "source": [
        "## soma do flag resolvido n1 divido pela quantidade de tickets\n",
        "\n",
        "fcr = tickets['flg_resolvido_n1'].sum() / tickets['cod_ticket'].nunique() * 100\n",
        "print(f\"% FCR: {fcr:.2f}%\")"
      ],
      "metadata": {
        "colab": {
          "base_uri": "https://localhost:8080/"
        },
        "id": "LeJ_WSQGEoE7",
        "outputId": "ab0b003a-f280-41b4-d253-f10148965167"
      },
      "execution_count": null,
      "outputs": [
        {
          "output_type": "stream",
          "name": "stdout",
          "text": [
            "% FCR: 18.76%\n"
          ]
        }
      ]
    },
    {
      "cell_type": "markdown",
      "source": [
        "TMR (Tempo Médio de Resolução)"
      ],
      "metadata": {
        "id": "TfSG-atVGIqA"
      }
    },
    {
      "cell_type": "code",
      "source": [
        "def tempo_medio_resolucao(tickets):\n",
        "\n",
        " # convertendo para datetime\n",
        "    tickets['dt_hr_fechamento'] = pd.to_datetime(tickets['dt_hr_fechamento'])\n",
        "    tickets['dt_hr_criacao'] = pd.to_datetime(tickets['dt_hr_criacao'])\n",
        "\n",
        "    # Calculando a diferença em dias corridos\n",
        "    tickets['tempo_resolucao'] = (tickets['dt_hr_fechamento'] - tickets['dt_hr_criacao']).dt.days\n",
        "\n",
        "\n",
        "    # calcular a média\n",
        "    tmr = tickets['tempo_resolucao'].mean()\n",
        "\n",
        "    return tmr\n",
        "\n",
        "# Calcular tempo médio de resolução\n",
        "tempo_medio = tempo_medio_resolucao(tickets)\n",
        "print(f\"Tempo Médio de Resolução (TMR): {tempo_medio:.2f} dias\")"
      ],
      "metadata": {
        "colab": {
          "base_uri": "https://localhost:8080/"
        },
        "id": "GxrlB1Bu2XXd",
        "outputId": "2ef342db-518e-4ff0-e47f-40635e3ea4d4"
      },
      "execution_count": null,
      "outputs": [
        {
          "output_type": "stream",
          "name": "stdout",
          "text": [
            "Tempo Médio de Resolução (TMR): 1.31 dias\n"
          ]
        }
      ]
    },
    {
      "cell_type": "markdown",
      "source": [
        "% SLA (Cumprimento do SLA)"
      ],
      "metadata": {
        "id": "wmxc0hbpIoLb"
      }
    },
    {
      "cell_type": "code",
      "source": [
        "# prazo sla\n",
        "sla_1 = 1 # sla de 1 dia\n",
        "sla_2 = 2 # sla de 2 dias\n",
        "sla_3 = 3 # sla de 3 dias\n",
        "\n",
        "tickets['sla'] = sla_3  # Como exemplo, assumindo que todos têm o SLA de 1 dia\n",
        "\n",
        "# Tickets dentro do SLA de 24 horas\n",
        "tickets_dentro_sla = (tickets['tempo_resolucao'] <= tickets['sla']).sum()\n",
        "\n",
        "# Tickets fora do SLA de 24 horas\n",
        "tickets_fora_sla = (tickets['tempo_resolucao'] > tickets['sla']).sum()\n",
        "\n",
        "print(f\"Quantidade de tickets dentro do SLA (<= {sla_3} dia): {tickets_dentro_sla}\")\n",
        "print(f\"Quantidade de tickets fora do SLA (> {sla_3} dia): {tickets_fora_sla}\")\n",
        "\n",
        "# Calcular % SLA\n",
        "sla_percentual = (tickets['tempo_resolucao'] <= tickets['sla']).sum() / tickets['cod_ticket'].nunique() * 100\n",
        "print(f\"% SLA: {sla_percentual:.2f}%\")"
      ],
      "metadata": {
        "colab": {
          "base_uri": "https://localhost:8080/"
        },
        "id": "GnxK5tJuI2rE",
        "outputId": "8225ae91-3a3f-4eaf-f8e3-aeca7889619d"
      },
      "execution_count": null,
      "outputs": [
        {
          "output_type": "stream",
          "name": "stdout",
          "text": [
            "Quantidade de tickets dentro do SLA (<= 3 dia): 39467\n",
            "Quantidade de tickets fora do SLA (> 3 dia): 2977\n",
            "% SLA: 90.99%\n"
          ]
        }
      ]
    },
    {
      "cell_type": "markdown",
      "source": [
        "% Envio de CSAT"
      ],
      "metadata": {
        "id": "U3Md-jo1J6Cm"
      }
    },
    {
      "cell_type": "code",
      "source": [
        "total_tickets = tickets['cod_cliente'].nunique()\n",
        "\n",
        "# Contar o total de pesquisas enviadas - base csat\n",
        "total_enviadas = df['cod_cliente'].nunique()\n",
        "\n",
        "# Calcular o % de envio\n",
        "percentual_envio = (total_enviadas / total_tickets) * 100\n",
        "\n",
        "print(f'total enviadas {total_enviadas}')\n",
        "print(f'total tickets {total_tickets}')\n",
        "print(f\"% de Envio: {percentual_envio:.2f}%\")"
      ],
      "metadata": {
        "colab": {
          "base_uri": "https://localhost:8080/"
        },
        "id": "y69gJ1x-J5zX",
        "outputId": "86098e52-0626-4bea-f051-deacde15da37"
      },
      "execution_count": null,
      "outputs": [
        {
          "output_type": "stream",
          "name": "stdout",
          "text": [
            "total enviadas 2017\n",
            "total tickets 5834\n",
            "% de Envio: 34.57%\n"
          ]
        }
      ]
    },
    {
      "cell_type": "markdown",
      "source": [
        "% Resposta de CSAT"
      ],
      "metadata": {
        "id": "MhHPWZiGJ8-9"
      }
    },
    {
      "cell_type": "code",
      "source": [
        "total_tickets = tickets['cod_cliente'].nunique()\n",
        "\n",
        "# Contar o total de pesquisas enviadas - base csat\n",
        "total_enviadas = df['cod_cliente'].nunique()\n",
        "\n",
        "# Calcular o % de envio\n",
        "percentual_envio = (total_enviadas / total_tickets) * 100\n",
        "\n",
        "print(f'total enviadas {total_enviadas}')\n",
        "print(f'total tickets {total_tickets}')\n",
        "print(f\"% de Resposta: {percentual_envio:.2f}%\")"
      ],
      "metadata": {
        "colab": {
          "base_uri": "https://localhost:8080/"
        },
        "id": "dfArbWv3J9Rt",
        "outputId": "8cba7f0c-2d0e-432d-af91-cf965bc8c63b"
      },
      "execution_count": null,
      "outputs": [
        {
          "output_type": "stream",
          "name": "stdout",
          "text": [
            "total enviadas 2017\n",
            "total tickets 5834\n",
            "% de Resposta: 34.57%\n"
          ]
        }
      ]
    },
    {
      "cell_type": "markdown",
      "source": [
        "% CSAT (Nota de Satisfação)"
      ],
      "metadata": {
        "id": "H_V_o1u9KW8f"
      }
    },
    {
      "cell_type": "code",
      "source": [
        "def convert_to_numeric(value):\n",
        "    try:\n",
        "        return int(value)\n",
        "    except (ValueError, TypeError):\n",
        "        return np.nan\n",
        "\n",
        "\n",
        "# Aplicar a função na coluna 'nota'\n",
        "df['nota_numero'] = df['nota'].apply(convert_to_numeric)\n",
        "\n",
        "## criei a coluna 'nota_numero' com a transformacao dela só pra int pros calculos abaixo\n",
        "df['nota_numero'] = df['nota_numero'].fillna(0).astype(int)"
      ],
      "metadata": {
        "id": "fhcRH0hvLRcD"
      },
      "execution_count": null,
      "outputs": []
    },
    {
      "cell_type": "code",
      "source": [
        "# notas consideradas satisfatorias\n",
        "nota_satisfacao = [8,9,10]\n",
        "\n",
        "# tickets com nota de satisfação 8, 9 e 10 na base csat\n",
        "tickets_satisfatorios = df['nota_numero'].isin(nota_satisfacao).sum()\n",
        "\n",
        "# tickets da base csat\n",
        "total_tickets = tickets['cod_cliente'].nunique()\n",
        "\n",
        "# calculo de % csat\n",
        "csat_percentual = (tickets_satisfatorios / total_tickets) * 100\n",
        "\n",
        "print(f'total tickets csat: {total_tickets}')\n",
        "print(f'total tickets satisfatorios: {tickets_satisfatorios}')\n",
        "\n",
        "print(f\"% CSAT: {csat_percentual:.2f}%\")"
      ],
      "metadata": {
        "colab": {
          "base_uri": "https://localhost:8080/"
        },
        "id": "Xpm1HqWeKanl",
        "outputId": "9641f1ec-656e-4101-a557-165403ab2b44"
      },
      "execution_count": null,
      "outputs": [
        {
          "output_type": "stream",
          "name": "stdout",
          "text": [
            "total tickets csat: 5834\n",
            "total tickets satisfatorios: 5120\n",
            "% CSAT: 87.76%\n"
          ]
        }
      ]
    },
    {
      "cell_type": "markdown",
      "source": [
        "% Resolutividade de CSAT"
      ],
      "metadata": {
        "id": "CK7KIP4kKcP9"
      }
    },
    {
      "cell_type": "code",
      "source": [
        "\n",
        "resolvido_sum = csat_tickets[df['nota'] == 'Resolvido'].shape[0]\n",
        "perg_resolvido_sum = csat_tickets[df['des_pergunta'] == 'O seu problema foi resolvido?'].shape[0]\n",
        "\n",
        "resolutividade_csat = resolvido_sum / perg_resolvido_sum * 100\n",
        "\n",
        "print(f\"Qtd Resolvidos: {resolvido_sum}\")\n",
        "print(f\"Total CSAT: {perg_resolvido_sum}\")\n",
        "print(f\"% Resolutividade de CSAT: {resolutividade_csat:.2f}%\")"
      ],
      "metadata": {
        "colab": {
          "base_uri": "https://localhost:8080/"
        },
        "id": "ja7t30S7KdoU",
        "outputId": "2fa05532-b2c9-4e48-8531-19fa5982764b"
      },
      "execution_count": null,
      "outputs": [
        {
          "output_type": "stream",
          "name": "stdout",
          "text": [
            "Qtd Resolvidos: 5024\n",
            "Total CSAT: 6273\n",
            "% Resolutividade de CSAT: 80.09%\n"
          ]
        }
      ]
    },
    {
      "cell_type": "markdown",
      "source": [
        "## Analise de negocio"
      ],
      "metadata": {
        "id": "s5TaovjNKhAW"
      }
    },
    {
      "cell_type": "code",
      "source": [
        "# Qual a taxa de contatos por cliente?\n",
        "\n",
        "taxa_contatos = tickets['cod_ticket'].nunique() / tickets['cod_cliente'].dropna().nunique()\n",
        "\n",
        "print(f\"Taxa de contatos por cliente: {taxa_contatos:.2f}\")"
      ],
      "metadata": {
        "colab": {
          "base_uri": "https://localhost:8080/"
        },
        "id": "cmGqZTs2Kh65",
        "outputId": "79d24c37-5b49-49bd-85d4-eea00569fdba"
      },
      "execution_count": null,
      "outputs": [
        {
          "output_type": "stream",
          "name": "stdout",
          "text": [
            "Taxa de contatos por cliente: 7.43\n"
          ]
        }
      ]
    },
    {
      "cell_type": "code",
      "source": [
        "# Existem clientes “heavy users” do atendimento?\n",
        "\n",
        "# Contagem de tickets por cliente\n",
        "tickets_por_cliente = tickets['cod_cliente'].value_counts()\n",
        "\n",
        "# Heavy users: clientes com mais de 3x a média de tickets\n",
        "media_tickets = tickets_por_cliente.mean()\n",
        "heavy_users = tickets_por_cliente[tickets_por_cliente > 3 * media_tickets]\n",
        "print(\"Clientes heavy users:\")\n",
        "print(heavy_users)"
      ],
      "metadata": {
        "colab": {
          "base_uri": "https://localhost:8080/"
        },
        "id": "GmOPXoAOKmr3",
        "outputId": "9cec37b8-70af-4f59-cee5-2c7ddc0934a1"
      },
      "execution_count": null,
      "outputs": [
        {
          "output_type": "stream",
          "name": "stdout",
          "text": [
            "Clientes heavy users:\n",
            "cod_cliente\n",
            "0        1166\n",
            "3143      477\n",
            "11310     323\n",
            "4688      217\n",
            "9394      208\n",
            "         ... \n",
            "3578       23\n",
            "422        23\n",
            "3098       23\n",
            "718        23\n",
            "7179       23\n",
            "Name: count, Length: 366, dtype: int64\n"
          ]
        }
      ]
    },
    {
      "cell_type": "code",
      "source": [
        "# Quais os clientes menos satisfeitos?\n",
        "\n",
        "clientes_insatisfeitos = df.groupby('cod_cliente')['nota_numero'].mean().nsmallest(10)\n",
        "print(\"Clientes menos satisfeitos:\")\n",
        "print(clientes_insatisfeitos)"
      ],
      "metadata": {
        "colab": {
          "base_uri": "https://localhost:8080/"
        },
        "id": "2GQl25WQKpeF",
        "outputId": "a7fed5d5-e594-4022-c625-22b2bf9ba5bf"
      },
      "execution_count": null,
      "outputs": [
        {
          "output_type": "stream",
          "name": "stdout",
          "text": [
            "Clientes menos satisfeitos:\n",
            "cod_cliente\n",
            "10003    0.0\n",
            "10008    0.0\n",
            "10164    0.0\n",
            "10244    0.0\n",
            "10297    0.0\n",
            "10317    0.0\n",
            "1038     0.0\n",
            "10430    0.0\n",
            "10479    0.0\n",
            "10484    0.0\n",
            "Name: nota_numero, dtype: float64\n"
          ]
        }
      ]
    },
    {
      "cell_type": "code",
      "source": [
        "# Existe diferença entre a satisfação do cliente “grandes contas” e o cliente “padrão”?\n",
        "\n",
        "csat_grandes = df[df['flag_grandes_contas'] == 1]['nota_numero'].mean()\n",
        "csat_padrao = df[df['flag_grandes_contas'] == 0]['nota_numero'].mean()\n",
        "\n",
        "print(f\"Nota média CSAT - Grandes Contas: {csat_grandes:.2f}\")\n",
        "print(f\"Nota média CSAT - Clientes Padrão: {csat_padrao:.2f}\")\n"
      ],
      "metadata": {
        "colab": {
          "base_uri": "https://localhost:8080/"
        },
        "id": "Vfq6920_KsP0",
        "outputId": "1db9fc4f-b4b2-4a59-afd9-68e96e840763"
      },
      "execution_count": null,
      "outputs": [
        {
          "output_type": "stream",
          "name": "stdout",
          "text": [
            "Nota média CSAT - Grandes Contas: 4.09\n",
            "Nota média CSAT - Clientes Padrão: 4.34\n"
          ]
        }
      ]
    },
    {
      "cell_type": "code",
      "source": [
        "# Quais são os produtos com maior taxa de contato?\n",
        "\n",
        "# Extrair produto da árvore de atendimento\n",
        "df['produto'] = df['desc_arvore_completa'].str.split(',').str[0]\n",
        "\n",
        "produtos_contato = df['produto'].value_counts().head(10)\n",
        "print(\"Produtos com maior taxa de contato:\")\n",
        "print(produtos_contato)\n"
      ],
      "metadata": {
        "colab": {
          "base_uri": "https://localhost:8080/"
        },
        "id": "Na1EC2kHKuDw",
        "outputId": "7e0d69ad-e3d2-4f1a-c4f3-72feffa7b8ae"
      },
      "execution_count": null,
      "outputs": [
        {
          "output_type": "stream",
          "name": "stdout",
          "text": [
            "Produtos com maior taxa de contato:\n",
            "produto\n",
            "['🌳 Atendimento SysPDV'               6887\n",
            "['🌳 Atendimento Varejofacil'          2217\n",
            "['🌳 Movidesk'                         1620\n",
            "['🌳 Atendimento TEF'                   667\n",
            "['🌳 Atendimento Milênio'               458\n",
            "['💻 Atendimento SysPDV Web'             62\n",
            "['🌳 Atendimento SysPDV']                27\n",
            "['💻  Atendimento Customer Success'      17\n",
            "['💻 Atendimento Migração'               16\n",
            "['🌳 Atendimento Varejofacil']            4\n",
            "Name: count, dtype: int64\n"
          ]
        }
      ]
    },
    {
      "cell_type": "code",
      "source": [
        "#Quais são os temas mais críticos?\n",
        "\n",
        "df['tema'] = df['desc_arvore_completa'].str.split(',').str[-1]\n",
        "\n",
        "temas_criticos = df['tema'].value_counts().head(10)\n",
        "print(\"Temas mais críticos:\")\n",
        "print(temas_criticos)"
      ],
      "metadata": {
        "colab": {
          "base_uri": "https://localhost:8080/"
        },
        "id": "eOxrcNzKKwNW",
        "outputId": "bbc254b8-4521-4453-a778-4dc97bfda3e2"
      },
      "execution_count": null,
      "outputs": [
        {
          "output_type": "stream",
          "name": "stdout",
          "text": [
            "Temas mais críticos:\n",
            "tema\n",
            "'Troca de controle']                      1750\n",
            "'Abandono CHAT']                          1546\n",
            "'Gerar (Nova ou Expirada) ']               748\n",
            "'Informações de Chamados ( Tickets )']     282\n",
            "'Rejeições ( NF Saida )']                  211\n",
            "'Configuração TEF / Modulos']              189\n",
            "'Chave VPN']                               176\n",
            "'Utilização NFe/NFCe (TecnoSpeed)']        165\n",
            "'Produto']                                 134\n",
            "'Informações Tarefas']                     130\n",
            "Name: count, dtype: int64\n"
          ]
        }
      ]
    }
  ]
}